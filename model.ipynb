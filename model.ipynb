{
 "cells": [
  {
   "cell_type": "markdown",
   "metadata": {},
   "source": [
    "### Contact Details:\n",
    "- **Mail:** `vatshayan007@gmail.com`\n",
    "- **Website:** [finalproject.in](https://www.finalproject.in/)\n",
    "- **YouTube:** [Computer Science Project](https://www.youtube.com/@computerscienceproject)\n"
   ]
  },
  {
   "cell_type": "code",
   "execution_count": 9,
   "metadata": {},
   "outputs": [
    {
     "name": "stdout",
     "output_type": "stream",
     "text": [
      "Contact Details:\n",
      "Contact for Project files such as Code & Documents:\n",
      "- Mail: `vatshayan007@gmail.com`\n",
      "- Website: [finalproject.in](https://www.finalproject.in/)\n",
      "- YouTube: [Computer Science Project](https://www.youtube.com/@computerscienceproject)\n"
     ]
    }
   ],
   "source": [
    "\n",
    "def display_contact_details():\n",
    "    print(\"Contact Details:\")\n",
    "    print(\"Contact for Project files such as Code & Documents:\")\n",
    "    print(\"- Mail: `vatshayan007@gmail.com`\")\n",
    "    print(\"- Website: [finalproject.in](https://www.finalproject.in/)\")\n",
    "    print(\"- YouTube: [Computer Science Project](https://www.youtube.com/@computerscienceproject)\")\n",
    "\n",
    "if __name__ == \"__main__\":\n",
    "    display_contact_details()\n"
   ]
  }
 ],
 "metadata": {
  "kernelspec": {
   "display_name": "Python 3",
   "language": "python",
   "name": "python3"
  },
  "language_info": {
   "codemirror_mode": {
    "name": "ipython",
    "version": 3
   },
   "file_extension": ".py",
   "mimetype": "text/x-python",
   "name": "python",
   "nbconvert_exporter": "python",
   "pygments_lexer": "ipython3",
   "version": "3.11.3"
  }
 },
 "nbformat": 4,
 "nbformat_minor": 2
}
